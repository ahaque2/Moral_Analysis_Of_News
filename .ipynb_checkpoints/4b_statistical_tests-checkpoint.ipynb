{
 "cells": [
  {
   "cell_type": "code",
   "execution_count": 41,
   "id": "1292836d-2060-4e83-b67a-f49f9535d4c7",
   "metadata": {
    "tags": []
   },
   "outputs": [],
   "source": [
    "import pandas as pd\n",
    "import numpy as np\n",
    "import sys\n",
    "\n",
    "from scipy import stats\n",
    "from scipy.stats import ttest_ind\n",
    "import pingouin as pg\n",
    "\n",
    "pd.set_option('display.max_colwidth', None)"
   ]
  },
  {
   "cell_type": "code",
   "execution_count": 42,
   "id": "603f976d-5c9e-4a3a-bd2d-fc950f08c2ae",
   "metadata": {
    "tags": []
   },
   "outputs": [],
   "source": [
    "data = pd.read_csv('../results/GazaNews_with_moral_scores.csv')"
   ]
  },
  {
   "cell_type": "code",
   "execution_count": null,
   "id": "ed219668-3c96-40fb-a8de-1b5219e1db6c",
   "metadata": {
    "tags": []
   },
   "outputs": [],
   "source": []
  },
  {
   "cell_type": "code",
   "execution_count": 43,
   "id": "14a096a5-7834-4fa2-a155-59ce58594172",
   "metadata": {
    "tags": []
   },
   "outputs": [
    {
     "data": {
      "image/png": "[encoded data removed]",
      "text/plain": [
       "<Figure size 640x480 with 1 Axes>"
      ]
     },
     "metadata": {},
     "output_type": "display_data"
    }
   ],
   "source": [
    "import seaborn as sns\n",
    "import matplotlib.pyplot as plt\n",
    "\n",
    "# Example DataFrame\n",
    "import pandas as pd\n",
    "import numpy as np\n",
    "\n",
    "attr = 'care'\n",
    "sns.histplot(data[attr], kde=True)\n",
    "plt.show()"
   ]
  },
  {
   "cell_type": "code",
   "execution_count": 44,
   "id": "12ed4e97-b679-4933-b900-b4666520dd39",
   "metadata": {
    "tags": []
   },
   "outputs": [],
   "source": [
    "no_entity_mentioned_df = data[data[['pal_ent', 'hamas_ent', 'isr_ent', 'other_ent']].eq(False).all(axis = 1)]\n",
    "pal_entity_mentioned_df = data[((data.pal_ent == True) & (data.hamas_ent == False) & (data.isr_ent == False) & (data.other_ent == False))]\n",
    "hamas_entity_mentioned_df = data[((data.pal_ent == False) & (data.hamas_ent == True) & (data.isr_ent == False) & (data.other_ent == False))]\n",
    "israel_entity_mentioned_df = data[((data.pal_ent == False) & (data.hamas_ent == False) & (data.isr_ent == True) & (data.other_ent == False))]\n",
    "other_entity_mentioned_df = data[((data.pal_ent == False) & (data.hamas_ent == False) & (data.isr_ent == False) & (data.other_ent == True))]\n",
    "other_entity_mentioned_df = pd.concat((no_entity_mentioned_df, other_entity_mentioned_df), axis = 0)"
   ]
  },
  {
   "cell_type": "code",
   "execution_count": 45,
   "id": "db09d345-084c-4fc4-a349-7a4722d39179",
   "metadata": {},
   "outputs": [
    {
     "data": {
      "text/plain": [
       "((586, 26), (517, 26), (2725, 26), (1449, 26))"
      ]
     },
     "execution_count": 45,
     "metadata": {},
     "output_type": "execute_result"
    }
   ],
   "source": [
    "pal_entity_mentioned_df.shape, hamas_entity_mentioned_df.shape, israel_entity_mentioned_df.shape, other_entity_mentioned_df.shape"
   ]
  },
  {
   "cell_type": "code",
   "execution_count": 46,
   "id": "8450195f-c589-471a-8b32-5391518bc408",
   "metadata": {
    "tags": []
   },
   "outputs": [],
   "source": [
    "grouped_mean = israel_entity_mentioned_df.groupby('media')['care'].mean()\n",
    "alj, bbc, fox = grouped_mean['aljazeera.com'], grouped_mean['bbc.com'], grouped_mean['foxnews.com']"
   ]
  },
  {
   "cell_type": "code",
   "execution_count": 47,
   "id": "6e3ad6ed-c24d-49fa-accf-53e48867d2a8",
   "metadata": {
    "tags": []
   },
   "outputs": [],
   "source": [
    "def check_normality(df, attr):\n",
    "    \n",
    "    alj = df[df.media == 'aljazeera.com'][attr]\n",
    "    bbc = df[df.media == 'bbc.com'][attr]\n",
    "    fox = df[df.media == 'foxnews.com'][attr]\n",
    "    \n",
    "    shapiro = []\n",
    "    \n",
    "    for dist in [alj, bbc, fox]:\n",
    "        p_val_shapiro = stats.shapiro(dist)[1]\n",
    "        shapiro.append(p_val_shapiro)\n",
    "    return shapiro\n",
    "\n",
    "def get_shapiro_normality(df):\n",
    "\n",
    "    shapiro_p = []\n",
    "    for attr in ['care', 'fairness', 'authority', 'loyalty', 'sanctity']:\n",
    "        # attr = 'cr_norm_' + attr + '_sent'\n",
    "        shap_p_val = check_normality(df, attr)\n",
    "        shapiro_p.append(shap_p_val)\n",
    "        \n",
    "    return shapiro_p"
   ]
  },
  {
   "cell_type": "code",
   "execution_count": 48,
   "id": "1c8b7bb4-bccc-4e0b-bf67-e306c9ee97c6",
   "metadata": {
    "tags": []
   },
   "outputs": [
    {
     "data": {
      "text/plain": [
       "([[0.6193952560424805, 0.7438293099403381, 0.3282991945743561],\n",
       "  [0.5283924341201782, 0.6519633531570435, 0.47754719853401184],\n",
       "  [0.47067791223526, 0.8470063209533691, 0.3331230878829956],\n",
       "  [0.7286744713783264, 0.36644402146339417, 0.23358680307865143],\n",
       "  [0.22781790792942047, 0.5511372685432434, 0.6228818297386169]],\n",
       " [[0.38269683718681335, 0.2148028165102005, 0.36550793051719666],\n",
       "  [0.4224151372909546, 0.6026623845100403, 0.06384515017271042],\n",
       "  [0.15183454751968384, 0.8132654428482056, 0.15989919006824493],\n",
       "  [0.15286757051944733, 0.14774353802204132, 0.1674586981534958],\n",
       "  [0.47429755330085754, 0.570728063583374, 0.04449882358312607]],\n",
       " [[0.0017085777362808585, 0.15381863713264465, 0.06414496153593063],\n",
       "  [0.04668581858277321, 0.7002977728843689, 0.008568093180656433],\n",
       "  [0.0006209468701854348, 0.18398042023181915, 0.09231685847043991],\n",
       "  [0.0008910204051062465, 0.09852664172649384, 0.03701211139559746],\n",
       "  [0.001911786268465221, 0.42160093784332275, 0.006914850790053606]],\n",
       " [[0.2503834366798401, 0.24397358298301697, 0.6765633225440979],\n",
       "  [0.07084876298904419, 0.03147196024656296, 0.996275782585144],\n",
       "  [0.13721393048763275, 0.21904356777668, 0.8079174160957336],\n",
       "  [0.04988140985369682, 0.3450073301792145, 0.8069323897361755],\n",
       "  [0.060002416372299194, 0.11703789979219437, 0.8861395120620728]])"
      ]
     },
     "execution_count": 48,
     "metadata": {},
     "output_type": "execute_result"
    }
   ],
   "source": [
    "pal_shapiro_norm = get_shapiro_normality(pal_entity_mentioned_df)\n",
    "hamas_shapiro_norm = get_shapiro_normality(hamas_entity_mentioned_df)\n",
    "israel_shapiro_norm = get_shapiro_normality(israel_entity_mentioned_df)\n",
    "other_shapiro_norm = get_shapiro_normality(other_entity_mentioned_df)\n",
    "\n",
    "pal_shapiro_norm, hamas_shapiro_norm, israel_shapiro_norm, other_shapiro_norm"
   ]
  },
  {
   "cell_type": "code",
   "execution_count": 49,
   "id": "aed89dae-ca0f-43c3-aec4-4e92265720ce",
   "metadata": {
    "tags": []
   },
   "outputs": [],
   "source": [
    "def get_statistical_results(df, attr, test_type, effect_type = 'rbc'):\n",
    "    \n",
    "    alj = df[df.media == 'aljazeera.com'][attr]\n",
    "    bbc = df[df.media == 'bbc.com'][attr]\n",
    "    fox = df[df.media == 'foxnews.com'][attr]\n",
    "\n",
    "    p_val, effect_size, shap_p1, shap_p2, mwu_p_val, mwu_cles, mwu_rbc = [], [], [], [], [], [], []\n",
    "    for p1, p2 in [(alj, bbc), (bbc, fox), (alj, fox)]:\n",
    "        \n",
    "        if test_type == 'ttest':\n",
    "            res = pg.ttest(p1, p2, paired=False)\n",
    "            p_v, effect = res['p-val'][0], res['cohen-d'][0]\n",
    "        \n",
    "        if test_type == 'mwu':\n",
    "            \n",
    "            result = pg.mwu(p1, p2)\n",
    "            p_v = result['p-val'][0]\n",
    "\n",
    "            if effect_type == 'cles':\n",
    "                effect = result['CLES'][0]\n",
    "\n",
    "            elif effect_type == 'rbc':\n",
    "                effect = result['RBC'][0]\n",
    "     \n",
    "        p_val.append(p_v)\n",
    "        effect_size.append(effect)\n",
    "\n",
    "    return shap_p1, shap_p2, p_val, effect_size\n",
    "\n",
    "\n",
    "def get_results(df, test = 'ttest'):\n",
    "\n",
    "    shapiro_p1, shapiro_p2, p_val, effect_size = [], [], [], []\n",
    "    for attr in ['care', 'fairness', 'authority', 'loyalty', 'sanctity']:\n",
    "        shap_p1, shap_p2, p_v, effect = get_statistical_results(df, attr, test)\n",
    "        p_val.append(p_v)\n",
    "        effect_size.append(effect)\n",
    "        shapiro_p1.append(shap_p1)\n",
    "        shapiro_p2.append(shap_p2)\n",
    "\n",
    "    df_p_val = pd.DataFrame(p_val).T.rename(columns = {0:'care_p-val', 1:'fairness_p-val', 2:'authority_p-val', 3:'loyalty_p-val', 4:'sanctity_p-val'})\n",
    "    df_p_val['media'] = ['alj-bbc', 'fox-bbc', 'alj-fox']\n",
    "\n",
    "    df_effect = pd.DataFrame(effect_size).T.rename(columns = {0:'care_es', 1:'fairness_es', 2:'authority_es', 3:'loyalty_es', 4:'sanctity_es'})\n",
    "    df_effect['media'] = ['alj-bbc', 'fox-bbc', 'alj-fox']\n",
    "\n",
    "    df_res = df_p_val.merge(df_effect, on = 'media')\n",
    "    cols = ['media'] + [col for col in df_res.columns if col != 'media']\n",
    "    df_res = df_res[cols]\n",
    "   \n",
    "    \n",
    "    return df_res"
   ]
  },
  {
   "cell_type": "code",
   "execution_count": 50,
   "id": "1c4cca16-e0be-4819-bb95-b31c73bd3d9c",
   "metadata": {},
   "outputs": [],
   "source": [
    "test = 'ttest'    # or mwu\n",
    "\n",
    "df_res2 = get_results(pal_entity_mentioned_df, test)\n",
    "df_res3 = get_results(hamas_entity_mentioned_df, test)\n",
    "df_res4 = get_results(israel_entity_mentioned_df, test)\n",
    "df_res5 = get_results(other_entity_mentioned_df, test)"
   ]
  },
  {
   "cell_type": "code",
   "execution_count": 51,
   "id": "612f2b74-5ca0-4151-9957-17785b85f95e",
   "metadata": {
    "tags": []
   },
   "outputs": [],
   "source": [
    "df_res2['Entity'] = ['Palestine'] * 3\n",
    "df_res3['Entity'] = ['Hamas'] * 3\n",
    "df_res4['Entity'] = ['Israel'] * 3\n",
    "df_res5['Entity'] = ['Other'] * 3"
   ]
  },
  {
   "cell_type": "code",
   "execution_count": 52,
   "id": "a787803b-2095-47da-93eb-f84bcb187603",
   "metadata": {
    "tags": []
   },
   "outputs": [],
   "source": [
    "result = pd.concat((df_res2, df_res3, df_res4, df_res5), axis = 0)\n",
    "# .to_csv('ttest.csv')"
   ]
  },
  {
   "cell_type": "code",
   "execution_count": 53,
   "id": "8552641d-c461-40b9-820f-cf51da90d879",
   "metadata": {
    "tags": []
   },
   "outputs": [
    {
     "data": {
      "text/html": [
       "<div>\n",
       "<style scoped>\n",
       "    .dataframe tbody tr th:only-of-type {\n",
       "        vertical-align: middle;\n",
       "    }\n",
       "\n",
       "    .dataframe tbody tr th {\n",
       "        vertical-align: top;\n",
       "    }\n",
       "\n",
       "    .dataframe thead th {\n",
       "        text-align: right;\n",
       "    }\n",
       "</style>\n",
       "<table border=\"1\" class=\"dataframe\">\n",
       "  <thead>\n",
       "    <tr style=\"text-align: right;\">\n",
       "      <th></th>\n",
       "      <th>media</th>\n",
       "      <th>care_p-val</th>\n",
       "      <th>fairness_p-val</th>\n",
       "      <th>authority_p-val</th>\n",
       "      <th>loyalty_p-val</th>\n",
       "      <th>sanctity_p-val</th>\n",
       "      <th>care_es</th>\n",
       "      <th>fairness_es</th>\n",
       "      <th>authority_es</th>\n",
       "      <th>loyalty_es</th>\n",
       "      <th>sanctity_es</th>\n",
       "      <th>Entity</th>\n",
       "    </tr>\n",
       "  </thead>\n",
       "  <tbody>\n",
       "    <tr>\n",
       "      <th>0</th>\n",
       "      <td>alj-bbc</td>\n",
       "      <td>1.036910e-02</td>\n",
       "      <td>5.005630e-02</td>\n",
       "      <td>2.019812e-02</td>\n",
       "      <td>2.756571e-02</td>\n",
       "      <td>2.626259e-02</td>\n",
       "      <td>0.242264</td>\n",
       "      <td>0.190288</td>\n",
       "      <td>0.223081</td>\n",
       "      <td>0.210877</td>\n",
       "      <td>0.213234</td>\n",
       "      <td>Palestine</td>\n",
       "    </tr>\n",
       "    <tr>\n",
       "      <th>1</th>\n",
       "      <td>fox-bbc</td>\n",
       "      <td>4.616359e-01</td>\n",
       "      <td>1.583070e-01</td>\n",
       "      <td>1.087063e-01</td>\n",
       "      <td>3.338587e-01</td>\n",
       "      <td>7.530311e-02</td>\n",
       "      <td>0.109566</td>\n",
       "      <td>0.207900</td>\n",
       "      <td>0.236532</td>\n",
       "      <td>0.142059</td>\n",
       "      <td>0.262551</td>\n",
       "      <td>Palestine</td>\n",
       "    </tr>\n",
       "    <tr>\n",
       "      <th>2</th>\n",
       "      <td>alj-fox</td>\n",
       "      <td>3.039892e-01</td>\n",
       "      <td>8.977554e-01</td>\n",
       "      <td>9.518154e-01</td>\n",
       "      <td>5.756253e-01</td>\n",
       "      <td>7.425957e-01</td>\n",
       "      <td>0.131969</td>\n",
       "      <td>0.016719</td>\n",
       "      <td>0.007713</td>\n",
       "      <td>0.071154</td>\n",
       "      <td>0.041897</td>\n",
       "      <td>Palestine</td>\n",
       "    </tr>\n",
       "    <tr>\n",
       "      <th>0</th>\n",
       "      <td>alj-bbc</td>\n",
       "      <td>1.939013e-02</td>\n",
       "      <td>6.161727e-03</td>\n",
       "      <td>5.801023e-03</td>\n",
       "      <td>2.027895e-02</td>\n",
       "      <td>3.456576e-02</td>\n",
       "      <td>0.305102</td>\n",
       "      <td>0.358066</td>\n",
       "      <td>0.360920</td>\n",
       "      <td>0.302944</td>\n",
       "      <td>0.275459</td>\n",
       "      <td>Hamas</td>\n",
       "    </tr>\n",
       "    <tr>\n",
       "      <th>1</th>\n",
       "      <td>fox-bbc</td>\n",
       "      <td>1.082585e-02</td>\n",
       "      <td>5.049077e-04</td>\n",
       "      <td>2.238629e-03</td>\n",
       "      <td>5.268588e-03</td>\n",
       "      <td>8.960600e-04</td>\n",
       "      <td>0.269446</td>\n",
       "      <td>0.373399</td>\n",
       "      <td>0.325780</td>\n",
       "      <td>0.297855</td>\n",
       "      <td>0.356601</td>\n",
       "      <td>Hamas</td>\n",
       "    </tr>\n",
       "    <tr>\n",
       "      <th>2</th>\n",
       "      <td>alj-fox</td>\n",
       "      <td>9.576650e-01</td>\n",
       "      <td>6.358650e-01</td>\n",
       "      <td>9.749617e-01</td>\n",
       "      <td>8.438461e-01</td>\n",
       "      <td>3.033136e-01</td>\n",
       "      <td>0.005461</td>\n",
       "      <td>0.048870</td>\n",
       "      <td>0.003254</td>\n",
       "      <td>0.020492</td>\n",
       "      <td>0.106905</td>\n",
       "      <td>Hamas</td>\n",
       "    </tr>\n",
       "    <tr>\n",
       "      <th>0</th>\n",
       "      <td>alj-bbc</td>\n",
       "      <td>6.635863e-07</td>\n",
       "      <td>8.092512e-06</td>\n",
       "      <td>1.420428e-07</td>\n",
       "      <td>4.193089e-09</td>\n",
       "      <td>5.140100e-09</td>\n",
       "      <td>0.252031</td>\n",
       "      <td>0.222109</td>\n",
       "      <td>0.264049</td>\n",
       "      <td>0.297798</td>\n",
       "      <td>0.293559</td>\n",
       "      <td>Israel</td>\n",
       "    </tr>\n",
       "    <tr>\n",
       "      <th>1</th>\n",
       "      <td>fox-bbc</td>\n",
       "      <td>1.365578e-08</td>\n",
       "      <td>4.788715e-16</td>\n",
       "      <td>4.326293e-15</td>\n",
       "      <td>2.895193e-09</td>\n",
       "      <td>2.869710e-17</td>\n",
       "      <td>0.304480</td>\n",
       "      <td>0.441682</td>\n",
       "      <td>0.426721</td>\n",
       "      <td>0.320289</td>\n",
       "      <td>0.460956</td>\n",
       "      <td>Israel</td>\n",
       "    </tr>\n",
       "    <tr>\n",
       "      <th>2</th>\n",
       "      <td>alj-fox</td>\n",
       "      <td>1.787994e-33</td>\n",
       "      <td>3.444714e-47</td>\n",
       "      <td>6.720988e-51</td>\n",
       "      <td>4.277855e-41</td>\n",
       "      <td>8.562608e-60</td>\n",
       "      <td>0.557930</td>\n",
       "      <td>0.659979</td>\n",
       "      <td>0.690450</td>\n",
       "      <td>0.619346</td>\n",
       "      <td>0.754144</td>\n",
       "      <td>Israel</td>\n",
       "    </tr>\n",
       "    <tr>\n",
       "      <th>0</th>\n",
       "      <td>alj-bbc</td>\n",
       "      <td>4.364406e-01</td>\n",
       "      <td>8.501245e-02</td>\n",
       "      <td>2.761610e-01</td>\n",
       "      <td>8.942856e-01</td>\n",
       "      <td>3.565721e-01</td>\n",
       "      <td>0.044472</td>\n",
       "      <td>0.098697</td>\n",
       "      <td>0.062239</td>\n",
       "      <td>0.007587</td>\n",
       "      <td>0.052679</td>\n",
       "      <td>Other</td>\n",
       "    </tr>\n",
       "    <tr>\n",
       "      <th>1</th>\n",
       "      <td>fox-bbc</td>\n",
       "      <td>2.388780e-01</td>\n",
       "      <td>8.138771e-04</td>\n",
       "      <td>2.593590e-03</td>\n",
       "      <td>2.042328e-01</td>\n",
       "      <td>5.127914e-03</td>\n",
       "      <td>0.095830</td>\n",
       "      <td>0.273347</td>\n",
       "      <td>0.244184</td>\n",
       "      <td>0.103538</td>\n",
       "      <td>0.227551</td>\n",
       "      <td>Other</td>\n",
       "    </tr>\n",
       "    <tr>\n",
       "      <th>2</th>\n",
       "      <td>alj-fox</td>\n",
       "      <td>5.180504e-01</td>\n",
       "      <td>2.610827e-02</td>\n",
       "      <td>2.191029e-02</td>\n",
       "      <td>2.319685e-01</td>\n",
       "      <td>2.817558e-02</td>\n",
       "      <td>0.051338</td>\n",
       "      <td>0.179208</td>\n",
       "      <td>0.180868</td>\n",
       "      <td>0.094789</td>\n",
       "      <td>0.173732</td>\n",
       "      <td>Other</td>\n",
       "    </tr>\n",
       "  </tbody>\n",
       "</table>\n",
       "</div>"
      ],
      "text/plain": [
       "     media    care_p-val  fairness_p-val  authority_p-val  loyalty_p-val  \\\n",
       "0  alj-bbc  1.036910e-02    5.005630e-02     2.019812e-02   2.756571e-02   \n",
       "1  fox-bbc  4.616359e-01    1.583070e-01     1.087063e-01   3.338587e-01   \n",
       "2  alj-fox  3.039892e-01    8.977554e-01     9.518154e-01   5.756253e-01   \n",
       "0  alj-bbc  1.939013e-02    6.161727e-03     5.801023e-03   2.027895e-02   \n",
       "1  fox-bbc  1.082585e-02    5.049077e-04     2.238629e-03   5.268588e-03   \n",
       "2  alj-fox  9.576650e-01    6.358650e-01     9.749617e-01   8.438461e-01   \n",
       "0  alj-bbc  6.635863e-07    8.092512e-06     1.420428e-07   4.193089e-09   \n",
       "1  fox-bbc  1.365578e-08    4.788715e-16     4.326293e-15   2.895193e-09   \n",
       "2  alj-fox  1.787994e-33    3.444714e-47     6.720988e-51   4.277855e-41   \n",
       "0  alj-bbc  4.364406e-01    8.501245e-02     2.761610e-01   8.942856e-01   \n",
       "1  fox-bbc  2.388780e-01    8.138771e-04     2.593590e-03   2.042328e-01   \n",
       "2  alj-fox  5.180504e-01    2.610827e-02     2.191029e-02   2.319685e-01   \n",
       "\n",
       "   sanctity_p-val   care_es  fairness_es  authority_es  loyalty_es  \\\n",
       "0    2.626259e-02  0.242264     0.190288      0.223081    0.210877   \n",
       "1    7.530311e-02  0.109566     0.207900      0.236532    0.142059   \n",
       "2    7.425957e-01  0.131969     0.016719      0.007713    0.071154   \n",
       "0    3.456576e-02  0.305102     0.358066      0.360920    0.302944   \n",
       "1    8.960600e-04  0.269446     0.373399      0.325780    0.297855   \n",
       "2    3.033136e-01  0.005461     0.048870      0.003254    0.020492   \n",
       "0    5.140100e-09  0.252031     0.222109      0.264049    0.297798   \n",
       "1    2.869710e-17  0.304480     0.441682      0.426721    0.320289   \n",
       "2    8.562608e-60  0.557930     0.659979      0.690450    0.619346   \n",
       "0    3.565721e-01  0.044472     0.098697      0.062239    0.007587   \n",
       "1    5.127914e-03  0.095830     0.273347      0.244184    0.103538   \n",
       "2    2.817558e-02  0.051338     0.179208      0.180868    0.094789   \n",
       "\n",
       "   sanctity_es     Entity  \n",
       "0     0.213234  Palestine  \n",
       "1     0.262551  Palestine  \n",
       "2     0.041897  Palestine  \n",
       "0     0.275459      Hamas  \n",
       "1     0.356601      Hamas  \n",
       "2     0.106905      Hamas  \n",
       "0     0.293559     Israel  \n",
       "1     0.460956     Israel  \n",
       "2     0.754144     Israel  \n",
       "0     0.052679      Other  \n",
       "1     0.227551      Other  \n",
       "2     0.173732      Other  "
      ]
     },
     "execution_count": 53,
     "metadata": {},
     "output_type": "execute_result"
    }
   ],
   "source": [
    "result"
   ]
  },
  {
   "cell_type": "code",
   "execution_count": 54,
   "id": "133b8363-c6bc-45ac-bc28-28c973c92274",
   "metadata": {},
   "outputs": [],
   "source": [
    "result.to_csv(f'../results/statistical_significance_{test}.csv')"
   ]
  },
  {
   "cell_type": "code",
   "execution_count": null,
   "id": "3282fce0-4079-4e0b-a2a5-0bdcd224dff7",
   "metadata": {},
   "outputs": [],
   "source": []
  }
 ],
 "metadata": {
  "kernelspec": {
   "display_name": "py3_10",
   "language": "python",
   "name": "py3_10"
  },
  "language_info": {
   "codemirror_mode": {
    "name": "ipython",
    "version": 3
   },
   "file_extension": ".py",
   "mimetype": "text/x-python",
   "name": "python",
   "nbconvert_exporter": "python",
   "pygments_lexer": "ipython3",
   "version": "3.10.12"
  }
 },
 "nbformat": 4,
 "nbformat_minor": 5
}
